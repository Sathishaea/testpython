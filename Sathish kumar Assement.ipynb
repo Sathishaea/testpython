{
 "cells": [
  {
   "cell_type": "markdown",
   "id": "04339261",
   "metadata": {},
   "source": [
    "# Write a program to find out the prime numbers "
   ]
  },
  {
   "cell_type": "code",
   "execution_count": 38,
   "id": "25fe455c",
   "metadata": {},
   "outputs": [
    {
     "name": "stdout",
     "output_type": "stream",
     "text": [
      "Enter upper limit: 9\n",
      "2\n",
      "3\n",
      "5\n",
      "7\n"
     ]
    }
   ],
   "source": [
    "test=int(input(\"Enter upper limit: \"))\n",
    "for a in range(2,test+1):\n",
    "    k=0\n",
    "    for i in range(2,a//2+1):\n",
    "        if(a%i==0):\n",
    "            k=k+1\n",
    "    if(k<=0):\n",
    "        print(a)\n"
   ]
  },
  {
   "cell_type": "markdown",
   "id": "2f55f997",
   "metadata": {},
   "source": [
    "# Q2: write a program to create the equation (a+b+c) *  (a-b-c) * ab + a^2 + b ^2 + (abc)^3"
   ]
  },
  {
   "cell_type": "code",
   "execution_count": 40,
   "id": "cf71c241",
   "metadata": {},
   "outputs": [
    {
     "name": "stdout",
     "output_type": "stream",
     "text": [
      "173\n"
     ]
    }
   ],
   "source": [
    "import numpy as np \n",
    "def Guvipython(a,b,c):\n",
    "    add = a+b+c \n",
    "    sub = a-b-c\n",
    "    mul =a*b\n",
    "    power1= a**2\n",
    "    power2= b**2\n",
    "    abc=  a*b*c\n",
    "    cube= abc**3\n",
    "    total = add*sub*mul+power1+power2+cube\n",
    "    return total\n",
    "calculated = Guvipython(1,2,3)\n",
    "print (calculated)\n"
   ]
  },
  {
   "cell_type": "markdown",
   "id": "62c1b9c5",
   "metadata": {},
   "source": [
    "# Q3) urlist = ['wood','knife','axe'] , mylist = ['tree', 'apple', 'mango', 'melon'] – combine two lists\n"
   ]
  },
  {
   "cell_type": "code",
   "execution_count": 41,
   "id": "37072178",
   "metadata": {},
   "outputs": [
    {
     "name": "stdout",
     "output_type": "stream",
     "text": [
      "['wood', 'knife', 'axe', 'tree', 'apple', 'mango', 'melon']\n"
     ]
    }
   ],
   "source": [
    "urlist = ['wood','knife','axe'] \n",
    "mylist = ['tree', 'apple', 'mango', 'melon'] \n",
    "finallist = urlist+mylist\n",
    "print (finallist)\n"
   ]
  },
  {
   "cell_type": "code",
   "execution_count": 44,
   "id": "10604d65",
   "metadata": {},
   "outputs": [
    {
     "name": "stdout",
     "output_type": "stream",
     "text": [
      "['wood', 'knife', 'axe', 'tree', 'apple', 'mango', 'melon']\n"
     ]
    }
   ],
   "source": [
    "urlist = ['wood','knife','axe'] \n",
    "mylist = ['tree', 'apple', 'mango', 'melon'] \n",
    "urlist.extend(mylist)\n",
    "print (urlist)\n"
   ]
  },
  {
   "cell_type": "markdown",
   "id": "5791968c",
   "metadata": {},
   "source": [
    "# write a program for natural number based on user input"
   ]
  },
  {
   "cell_type": "code",
   "execution_count": 45,
   "id": "d0dd7ec8",
   "metadata": {},
   "outputs": [
    {
     "name": "stdout",
     "output_type": "stream",
     "text": [
      "Please Enter any Number: 9\n",
      "The List of Natural Numbers from 1 to 9 are\n",
      "1  2  3  4  5  6  7  8  9  "
     ]
    }
   ],
   "source": [
    "number = int(input(\"Please Enter any Number: \"))\n",
    "\n",
    "print(\"The List of Natural Numbers from 1 to {0} are\".format(number)) \n",
    "\n",
    "for i in range(1, number + 1):\n",
    "    print (i, end = '  ')"
   ]
  },
  {
   "cell_type": "code",
   "execution_count": 13,
   "id": "bff81e28",
   "metadata": {},
   "outputs": [
    {
     "data": {
      "text/plain": [
       "False"
      ]
     },
     "execution_count": 13,
     "metadata": {},
     "output_type": "execute_result"
    }
   ],
   "source": [
    "def checknatnum(n):\n",
    "    if int(n)>0:\n",
    "        return True\n",
    "    else:\n",
    "        return False\n",
    "checknatnum(0)"
   ]
  },
  {
   "cell_type": "markdown",
   "id": "a1f6b77e",
   "metadata": {},
   "source": [
    "# write class and function for the equation sqrt(x1-x2) ^ 2 + sqrt( y1 – y2 ) ^2 using try except handling"
   ]
  },
  {
   "cell_type": "code",
   "execution_count": 28,
   "id": "57c56b1f",
   "metadata": {},
   "outputs": [
    {
     "name": "stdout",
     "output_type": "stream",
     "text": [
      "Check ur input- X1 should be greater than X2 and also Y1 Should be greater than Y2\n"
     ]
    }
   ],
   "source": [
    "import math\n",
    "class Calulation:\n",
    "    def __init__(self, X1, X2,Y1,Y2):\n",
    "        self.X1=X1\n",
    "        self.X2=X2\n",
    "        self.Y1=Y1\n",
    "        self.Y2=Y2\n",
    "        try:\n",
    "            c1=math.sqrt(X1 - X2)**2\n",
    "            c2=math.sqrt(Y1 - Y2)**2\n",
    "            c3 =c1+c2\n",
    "            print(c3)\n",
    "        except:\n",
    "             print(\"Check ur input- X1 should be greater than X2 and also Y1 Should be greater than Y2\")\n",
    "s=Calulation(1,2,4,5)"
   ]
  },
  {
   "cell_type": "code",
   "execution_count": 46,
   "id": "18b6c6d0",
   "metadata": {},
   "outputs": [
    {
     "name": "stdout",
     "output_type": "stream",
     "text": [
      "2.0\n"
     ]
    }
   ],
   "source": [
    "import math\n",
    "class Calulation:\n",
    "    def __init__(self, X1, X2,Y1,Y2):\n",
    "        self.X1=X1\n",
    "        self.X2=X2\n",
    "        self.Y1=Y1\n",
    "        self.Y2=Y2\n",
    "        try:\n",
    "            c1=math.sqrt(X1 - X2)**2\n",
    "            c2=math.sqrt(Y1 - Y2)**2\n",
    "            c3 =c1+c2\n",
    "            print(c3)\n",
    "        except:\n",
    "             print(\"Check ur input- X1 should be greater than X2 and also Y1 Should be greater than Y2\")\n",
    "s=Calulation(2,1,4,3)"
   ]
  },
  {
   "cell_type": "markdown",
   "id": "65d48552",
   "metadata": {},
   "source": [
    "# Name  = “Guvi python”  - write a program to get “python” word from the string"
   ]
  },
  {
   "cell_type": "code",
   "execution_count": 24,
   "id": "f21386b7",
   "metadata": {},
   "outputs": [
    {
     "name": "stdout",
     "output_type": "stream",
     "text": [
      "python\n"
     ]
    }
   ],
   "source": [
    "string = \"Guvi python\"\n",
    "words = string.split(' ')[1]\n",
    "print(words)"
   ]
  },
  {
   "cell_type": "code",
   "execution_count": null,
   "id": "96083647",
   "metadata": {},
   "outputs": [],
   "source": []
  },
  {
   "cell_type": "markdown",
   "id": "e2fd3340",
   "metadata": {},
   "source": [
    "# Using class and function - Write a program for palindrome Ex. Madam"
   ]
  },
  {
   "cell_type": "code",
   "execution_count": 31,
   "id": "d93876f6",
   "metadata": {},
   "outputs": [
    {
     "name": "stdout",
     "output_type": "stream",
     "text": [
      "Yes, its a palindrome\n"
     ]
    }
   ],
   "source": [
    "    def isPalindrome(s):\n",
    "        return s == s[::-1]\n",
    "    s = \"madam\"\t\n",
    "    ans = isPalindrome(s)\n",
    " \n",
    "    if ans:\n",
    "        print(\"Yes, its a palindrome\")\n",
    "    else:\n",
    "        print(\"Not a Palindrome\")\n"
   ]
  },
  {
   "cell_type": "code",
   "execution_count": 32,
   "id": "138748a3",
   "metadata": {},
   "outputs": [
    {
     "name": "stdout",
     "output_type": "stream",
     "text": [
      "Not a Palindrome\n"
     ]
    }
   ],
   "source": [
    "    def isPalindrome(s):\n",
    "        return s == s[::-1]\n",
    "    s = \"test\"\t\n",
    "    ans = isPalindrome(s)\n",
    " \n",
    "    if ans:\n",
    "        print(\"Yes, its a palindrome\")\n",
    "    else:\n",
    "        print(\"Not a Palindrome\")\n"
   ]
  },
  {
   "cell_type": "markdown",
   "id": "0ca8edbd",
   "metadata": {},
   "source": [
    "# using file handling – write a text file in ur system with “hello world”"
   ]
  },
  {
   "cell_type": "code",
   "execution_count": 34,
   "id": "7b219bf6",
   "metadata": {},
   "outputs": [
    {
     "name": "stdout",
     "output_type": "stream",
     "text": [
      "File was created.\n"
     ]
    }
   ],
   "source": [
    "from pathlib import Path\n",
    "\n",
    "dir_path = Path('C:\\Pyth')\n",
    "file_name = \"test.txt\"\n",
    "file_path = dir_path.joinpath(file_name)\n",
    "\n",
    "# check that directory exists\n",
    "if dir_path.is_dir():\n",
    "    with open(file_path, \"w\") as f:\n",
    "        f.write(\"hello world\")\n",
    "        print('File was created.')\n",
    "else:\n",
    "    print(\"Directory doesn\\'t exist.\")"
   ]
  },
  {
   "cell_type": "markdown",
   "id": "00142070",
   "metadata": {},
   "source": [
    "# create option button using tkinter GUI in python"
   ]
  },
  {
   "cell_type": "code",
   "execution_count": 36,
   "id": "c843a1cc",
   "metadata": {},
   "outputs": [],
   "source": [
    "import tkinter as tk\n",
    "root = tk.Tk()\n",
    "v = tk.IntVar()\n",
    "tk.Label(root, \n",
    "        text=\"\"\"Choose a \n",
    "programming language:\"\"\",\n",
    "        justify = tk.LEFT,\n",
    "        padx = 20).pack()\n",
    "\n",
    "tk.Radiobutton(root, \n",
    "               text=\"Python\",\n",
    "               padx = 50, \n",
    "               variable=v, \n",
    "               value=1).pack(anchor=tk.W)\n",
    "\n",
    "tk.Radiobutton(root, \n",
    "               text=\"Perl\",\n",
    "               padx = 50, \n",
    "               variable=v, \n",
    "               value=2).pack(anchor=tk.W)\n",
    "tk.Radiobutton(root, \n",
    "               text=\"Java\",\n",
    "               padx = 50, \n",
    "               variable=v, \n",
    "               value=2).pack(anchor=tk.W)\n",
    "root.mainloop()"
   ]
  },
  {
   "cell_type": "markdown",
   "id": "58c51606",
   "metadata": {},
   "source": [
    "# Q10) .Keep only numbers from the following string x = “ 89e9jcd^o38829@3%3,/mkl$w1”"
   ]
  },
  {
   "cell_type": "code",
   "execution_count": 37,
   "id": "4b9e42dd",
   "metadata": {},
   "outputs": [
    {
     "name": "stdout",
     "output_type": "stream",
     "text": [
      "Extracted numbers from the list : 89938829331\n"
     ]
    }
   ],
   "source": [
    "inp_str = \"89e9jcd^o38829@3%3,/mkl$w1\"\n",
    "num = \"\"\n",
    "for c in inp_str:\n",
    "    if c.isdigit():\n",
    "        num = num + c\n",
    "print(\"Extracted numbers from the list : \" + num) "
   ]
  },
  {
   "cell_type": "code",
   "execution_count": null,
   "id": "0834f133",
   "metadata": {},
   "outputs": [],
   "source": []
  }
 ],
 "metadata": {
  "kernelspec": {
   "display_name": "Python 3 (ipykernel)",
   "language": "python",
   "name": "python3"
  },
  "language_info": {
   "codemirror_mode": {
    "name": "ipython",
    "version": 3
   },
   "file_extension": ".py",
   "mimetype": "text/x-python",
   "name": "python",
   "nbconvert_exporter": "python",
   "pygments_lexer": "ipython3",
   "version": "3.9.13"
  }
 },
 "nbformat": 4,
 "nbformat_minor": 5
}
